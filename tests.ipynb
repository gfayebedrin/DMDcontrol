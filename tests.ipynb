{
 "cells": [
  {
   "cell_type": "code",
   "execution_count": 41,
   "metadata": {},
   "outputs": [],
   "source": [
    "from __future__ import annotations\n",
    "import json, threading, traceback\n",
    "from typing import Callable, Literal, Optional\n",
    "import time"
   ]
  },
  {
   "cell_type": "code",
   "execution_count": null,
   "metadata": {},
   "outputs": [],
   "source": [
    "class CancellableTask:\n",
    "    \"\"\"Run a function in its own thread that can be started and stopped via pipe messages.\"\"\"\n",
    "\n",
    "    def __init__(self, func: Callable[[threading.Event], None]):\n",
    "        self._func = func\n",
    "        self._thread: Optional[threading.Thread] = None\n",
    "        self._stop_evt = threading.Event()\n",
    "\n",
    "    def __call__(self, message: Literal[\"start\", \"stop\"]):\n",
    "        match message:\n",
    "            case \"start\":\n",
    "                return self.start()\n",
    "            case \"stop\":\n",
    "                return self.stop()\n",
    "            case _:\n",
    "                raise ValueError(f\"Unknown message: {message}\")\n",
    "\n",
    "    def is_running(self) -> bool:\n",
    "        \"\"\"Check if the task is currently running.\"\"\"\n",
    "        return self._thread is not None and self._thread.is_alive()\n",
    "\n",
    "    def start(self):\n",
    "        \"\"\"Start the task if it is not already running.\"\"\"\n",
    "        if not self.is_running():\n",
    "            self._stop_evt.clear()\n",
    "            self._thread = threading.Thread(target=self._run, daemon=True)\n",
    "            self._thread.start()\n",
    "            return {\"status\": \"started\"}\n",
    "        return {\"status\": \"already_running\"}\n",
    "\n",
    "    def stop(self):\n",
    "        \"\"\"Stop the task if it is running.\"\"\"\n",
    "        if self.is_running():\n",
    "            self._stop_evt.set()\n",
    "            self._thread.join()\n",
    "            return {\"status\": \"stopped\"}\n",
    "        return {\"status\": \"not_running\"}\n",
    "\n",
    "    # ––– internal –––\n",
    "    def _run(self):\n",
    "        try:\n",
    "            self._func(self._stop_evt)\n",
    "        except Exception as ex:  # make sure a task crash doesn't kill the server thread\n",
    "            print(\"CancellableTask crashed:\", ex)\n",
    "            traceback.print_exc()"
   ]
  },
  {
   "cell_type": "code",
   "execution_count": 43,
   "metadata": {},
   "outputs": [],
   "source": [
    "class FakePipe:\n",
    "    \"\"\"Fake named pipe for testing purposes.\"\"\"\n",
    "    \n",
    "    def __init__(self, name: str = r\"\\\\.\\pipe\\MatPy\"):\n",
    "        self.name = name\n",
    "        self.messages = []\n",
    "        self.closed = False\n",
    "\n",
    "    def write(self, data: bytes):\n",
    "        if self.closed:\n",
    "            raise BrokenPipeError(\"Pipe is closed\")\n",
    "        self.messages.append(data)\n",
    "\n",
    "    def read(self, size: int) -> bytes:\n",
    "        if not self.messages:\n",
    "            return b\"\"\n",
    "        return self.messages.pop(0)\n",
    "\n",
    "    def close(self):\n",
    "        self.closed = True"
   ]
  },
  {
   "cell_type": "code",
   "execution_count": 44,
   "metadata": {},
   "outputs": [],
   "source": [
    "class NamedPipeServer:\n",
    "    \"\"\"Single‑client, message‑framed named‑pipe server that survives callback errors.\"\"\"\n",
    "\n",
    "    def __init__(self, *, fake_pipe: FakePipe, callback=None, bufsize: int = 65536):\n",
    "        self.pipe = fake_pipe  # FakePipe instance for testing\n",
    "        self.callback = callback  # Python callable (dict → dict | None)\n",
    "        self.bufsize = bufsize\n",
    "        self._stop_event = threading.Event()\n",
    "        self._thread = threading.Thread(target=self._listen, daemon=True)\n",
    "\n",
    "    # ––– public API –––\n",
    "    def start(self):\n",
    "        \"\"\"Begin listening in a background thread (returns immediately).\"\"\"\n",
    "        self._thread.start()\n",
    "\n",
    "    def stop(self):\n",
    "        \"\"\"Request shutdown and join the thread.\"\"\"\n",
    "        self._stop_event.set()\n",
    "        self._thread.join()\n",
    "\n",
    "    # ––– internal –––\n",
    "    def _listen(self):\n",
    "        while not self._stop_event.is_set():\n",
    "            # Use the fake pipe for testing instead of creating a Windows named pipe\n",
    "            pipe = self.pipe\n",
    "            try:\n",
    "                # Simulate client connection for fake pipe\n",
    "                # client loop\n",
    "                while not self._stop_event.is_set():\n",
    "                    try:\n",
    "                        raw = pipe.read(self.bufsize)\n",
    "                    except Exception:\n",
    "                        break  # pipe closed or error\n",
    "                    if not raw:\n",
    "                        continue  # no message available\n",
    "                    try:\n",
    "                        message = json.loads(raw.decode())\n",
    "                    except json.JSONDecodeError as ex:\n",
    "                        continue\n",
    "\n",
    "                    if self.callback:\n",
    "                        try:\n",
    "                            self.callback(message[\"message\"])\n",
    "                        except Exception as ex:\n",
    "                            print(\"Callback exception:\", ex)\n",
    "                            traceback.print_exc()\n",
    "            finally:\n",
    "                time.sleep(0.01)  # avoid busy-waiting"
   ]
  },
  {
   "cell_type": "code",
   "execution_count": null,
   "metadata": {},
   "outputs": [],
   "source": [
    "pipe = FakePipe()\n",
    "\n",
    "def task_function(event: threading.Event):\n",
    "    print(\"Task has started\")\n",
    "    for i in range(15):\n",
    "        if event.is_set():\n",
    "            print(\"Task has been cancelled\")\n",
    "            return\n",
    "        time.sleep(1)\n",
    "        print(\"Task is running, iteration \", i + 1)\n",
    "    raise RuntimeError(\"Task completed unexpectedly\")\n",
    "\n",
    "task = CancellableTask(task_function)\n",
    "\n",
    "server = NamedPipeServer(fake_pipe=pipe, callback=task)"
   ]
  },
  {
   "cell_type": "code",
   "execution_count": null,
   "metadata": {},
   "outputs": [
    {
     "name": "stdout",
     "output_type": "stream",
     "text": [
      "Task has started\n",
      "Task is running\n",
      "Task is running\n",
      "Task is running\n",
      "Task has started\n",
      "Task is running\n",
      "Task is running\n",
      "Task is running\n",
      "Task is running\n",
      "Task is running\n",
      "Task is running\n",
      "Task is running\n",
      "Task is running\n",
      "Task is running\n",
      "Task is running\n",
      "Task is running\n",
      "Task is running\n",
      "Task is running\n",
      "Task is running\n",
      "Task is running\n",
      "Task is running\n",
      "Task is running\n",
      "Task is running\n",
      "Task is running\n"
     ]
    }
   ],
   "source": [
    "server.start()"
   ]
  },
  {
   "cell_type": "code",
   "execution_count": 54,
   "metadata": {},
   "outputs": [],
   "source": [
    "pipe.write(json.dumps({\"message\": \"start\"}).encode())"
   ]
  },
  {
   "cell_type": "code",
   "execution_count": 26,
   "metadata": {},
   "outputs": [],
   "source": [
    "raw=pipe.read(0)\n",
    "if raw:\n",
    "    print(json.loads(raw.decode()))"
   ]
  },
  {
   "cell_type": "code",
   "execution_count": 56,
   "metadata": {},
   "outputs": [],
   "source": [
    "pipe.write(json.dumps({\"message\": \"stop\"}).encode())"
   ]
  },
  {
   "cell_type": "code",
   "execution_count": 55,
   "metadata": {},
   "outputs": [],
   "source": [
    "server.stop()"
   ]
  },
  {
   "cell_type": "code",
   "execution_count": 14,
   "metadata": {},
   "outputs": [
    {
     "data": {
      "text/plain": [
       "{'message': 'start'}"
      ]
     },
     "execution_count": 14,
     "metadata": {},
     "output_type": "execute_result"
    }
   ],
   "source": [
    "json.loads(json.dumps({\"message\": \"start\"}).encode())"
   ]
  },
  {
   "cell_type": "code",
   "execution_count": 62,
   "metadata": {},
   "outputs": [],
   "source": [
    "from types import SimpleNamespace\n",
    "\n",
    "MESSAGES = SimpleNamespace(\n",
    "    COMMAND_KEY=\"cmd\",\n",
    "    START_CMD=\"start\",\n",
    "    STOP_CMD=\"stop\"\n",
    ")"
   ]
  },
  {
   "cell_type": "code",
   "execution_count": 64,
   "metadata": {},
   "outputs": [
    {
     "data": {
      "text/plain": [
       "'start'"
      ]
     },
     "execution_count": 64,
     "metadata": {},
     "output_type": "execute_result"
    }
   ],
   "source": [
    "MESSAGES.START_CMD"
   ]
  }
 ],
 "metadata": {
  "kernelspec": {
   "display_name": "training",
   "language": "python",
   "name": "python3"
  },
  "language_info": {
   "codemirror_mode": {
    "name": "ipython",
    "version": 3
   },
   "file_extension": ".py",
   "mimetype": "text/x-python",
   "name": "python",
   "nbconvert_exporter": "python",
   "pygments_lexer": "ipython3",
   "version": "3.12.6"
  }
 },
 "nbformat": 4,
 "nbformat_minor": 4
}
