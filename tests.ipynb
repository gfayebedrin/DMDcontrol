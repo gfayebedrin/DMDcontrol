{
 "cells": [
  {
   "cell_type": "code",
   "execution_count": 1,
   "metadata": {},
   "outputs": [],
   "source": [
    "from src.utils.synchronisation import NamedPipeServer\n",
    "\n",
    "import win32pipe, win32file, pywintypes\n",
    "import json, time"
   ]
  },
  {
   "cell_type": "code",
   "execution_count": 2,
   "metadata": {},
   "outputs": [],
   "source": [
    "def task(message):\n",
    "    print(message)\n",
    "    return {\"status\": \"ok\"}\n",
    "\n",
    "server = NamedPipeServer(\n",
    "    callback=task,\n",
    "    should_reply=False,\n",
    "    )"
   ]
  },
  {
   "cell_type": "code",
   "execution_count": null,
   "metadata": {},
   "outputs": [],
   "source": [
    "def send(msg, pipe_name: str = r\"\\\\.\\pipe\\MatPy\", timeout_ms: int = 1000):\n",
    "    # Wait until the server side exists\n",
    "    start = time.time()\n",
    "    while True:\n",
    "        try:\n",
    "            pipe = win32file.CreateFile(\n",
    "                pipe_name,\n",
    "                win32file.GENERIC_WRITE | win32file.GENERIC_READ,\n",
    "                0,                    # no sharing\n",
    "                None,\n",
    "                win32file.OPEN_EXISTING,\n",
    "                0,\n",
    "                None,\n",
    "            )\n",
    "            break\n",
    "        except pywintypes.error as e:\n",
    "            if e.winerror != 2 or (time.time() - start)*1000 > timeout_ms:\n",
    "                raise\n",
    "            time.sleep(0.05)          # retry until server is up\n",
    "\n",
    "    try:\n",
    "        win32file.WriteFile(pipe, json.dumps(msg).encode() + b\"\\n\")\n",
    "        hr, raw = win32file.ReadFile(pipe, 64 * 1024)     # optional reply\n",
    "        return json.loads(raw.decode()) if raw else None\n",
    "    finally:\n",
    "        win32file.CloseHandle(pipe)\n"
   ]
  },
  {
   "cell_type": "code",
   "execution_count": 4,
   "metadata": {},
   "outputs": [],
   "source": [
    "server.start()"
   ]
  },
  {
   "cell_type": "code",
   "execution_count": 5,
   "metadata": {},
   "outputs": [
    {
     "ename": "error",
     "evalue": "(536, 'WriteFile', 'Waiting for a process to open the other end of the pipe.')",
     "output_type": "error",
     "traceback": [
      "\u001b[31m---------------------------------------------------------------------------\u001b[39m",
      "\u001b[31merror\u001b[39m                                     Traceback (most recent call last)",
      "\u001b[36mCell\u001b[39m\u001b[36m \u001b[39m\u001b[32mIn[5]\u001b[39m\u001b[32m, line 1\u001b[39m\n\u001b[32m----> \u001b[39m\u001b[32m1\u001b[39m send({\u001b[33m\"\u001b[39m\u001b[33mmsg\u001b[39m\u001b[33m\"\u001b[39m:\u001b[33m\"\u001b[39m\u001b[33mtest\u001b[39m\u001b[33m\"\u001b[39m})\n",
      "\u001b[36mCell\u001b[39m\u001b[36m \u001b[39m\u001b[32mIn[3]\u001b[39m\u001b[32m, line 16\u001b[39m, in \u001b[36msend\u001b[39m\u001b[34m(msg, pipe_name, bufsize)\u001b[39m\n\u001b[32m      1\u001b[39m \u001b[38;5;28;01mdef\u001b[39;00m\u001b[38;5;250m \u001b[39m\u001b[34msend\u001b[39m(msg, pipe_name: \u001b[38;5;28mstr\u001b[39m = \u001b[33mr\u001b[39m\u001b[33m\"\u001b[39m\u001b[38;5;130;01m\\\\\u001b[39;00m\u001b[33m.\u001b[39m\u001b[33m\\\u001b[39m\u001b[33mpipe\u001b[39m\u001b[33m\\\u001b[39m\u001b[33mMatPy\u001b[39m\u001b[33m\"\u001b[39m, bufsize: \u001b[38;5;28mint\u001b[39m = \u001b[32m65536\u001b[39m):\n\u001b[32m      3\u001b[39m     pipe = win32pipe.CreateNamedPipe(\n\u001b[32m      4\u001b[39m                     pipe_name,\n\u001b[32m      5\u001b[39m                     win32pipe.PIPE_ACCESS_DUPLEX,\n\u001b[32m   (...)\u001b[39m\u001b[32m     13\u001b[39m                     \u001b[38;5;28;01mNone\u001b[39;00m,\n\u001b[32m     14\u001b[39m                 )\n\u001b[32m---> \u001b[39m\u001b[32m16\u001b[39m     win32file.WriteFile(pipe, json.dumps(msg).encode() + \u001b[33mb\u001b[39m\u001b[33m\"\u001b[39m\u001b[38;5;130;01m\\n\u001b[39;00m\u001b[33m\"\u001b[39m)\n\u001b[32m     17\u001b[39m     win32file.CloseHandle(pipe)\n",
      "\u001b[31merror\u001b[39m: (536, 'WriteFile', 'Waiting for a process to open the other end of the pipe.')"
     ]
    }
   ],
   "source": [
    "send({\"msg\":\"test\"})"
   ]
  },
  {
   "cell_type": "code",
   "execution_count": 6,
   "metadata": {},
   "outputs": [
    {
     "ename": "error",
     "evalue": "(231, 'CreateNamedPipe', 'All pipe instances are busy.')",
     "output_type": "error",
     "traceback": [
      "\u001b[31m---------------------------------------------------------------------------\u001b[39m",
      "\u001b[31merror\u001b[39m                                     Traceback (most recent call last)",
      "\u001b[36mCell\u001b[39m\u001b[36m \u001b[39m\u001b[32mIn[6]\u001b[39m\u001b[32m, line 1\u001b[39m\n\u001b[32m----> \u001b[39m\u001b[32m1\u001b[39m send({\u001b[33m\"\u001b[39m\u001b[33mmsg\u001b[39m\u001b[33m\"\u001b[39m:\u001b[33m\"\u001b[39m\u001b[33mtest\u001b[39m\u001b[33m\"\u001b[39m})\n",
      "\u001b[36mCell\u001b[39m\u001b[36m \u001b[39m\u001b[32mIn[3]\u001b[39m\u001b[32m, line 3\u001b[39m, in \u001b[36msend\u001b[39m\u001b[34m(msg, pipe_name, bufsize)\u001b[39m\n\u001b[32m      1\u001b[39m \u001b[38;5;28;01mdef\u001b[39;00m\u001b[38;5;250m \u001b[39m\u001b[34msend\u001b[39m(msg, pipe_name: \u001b[38;5;28mstr\u001b[39m = \u001b[33mr\u001b[39m\u001b[33m\"\u001b[39m\u001b[38;5;130;01m\\\\\u001b[39;00m\u001b[33m.\u001b[39m\u001b[33m\\\u001b[39m\u001b[33mpipe\u001b[39m\u001b[33m\\\u001b[39m\u001b[33mMatPy\u001b[39m\u001b[33m\"\u001b[39m, bufsize: \u001b[38;5;28mint\u001b[39m = \u001b[32m65536\u001b[39m):\n\u001b[32m----> \u001b[39m\u001b[32m3\u001b[39m     pipe = win32pipe.CreateNamedPipe(\n\u001b[32m      4\u001b[39m                     pipe_name,\n\u001b[32m      5\u001b[39m                     win32pipe.PIPE_ACCESS_DUPLEX,\n\u001b[32m      6\u001b[39m                     win32pipe.PIPE_TYPE_MESSAGE\n\u001b[32m      7\u001b[39m                     | win32pipe.PIPE_READMODE_MESSAGE\n\u001b[32m      8\u001b[39m                     | win32pipe.PIPE_WAIT,\n\u001b[32m      9\u001b[39m                     \u001b[32m2\u001b[39m,  \u001b[38;5;66;03m# max instances\u001b[39;00m\n\u001b[32m     10\u001b[39m                     bufsize,  \u001b[38;5;66;03m# out-buffer\u001b[39;00m\n\u001b[32m     11\u001b[39m                     bufsize,  \u001b[38;5;66;03m# in-buffer\u001b[39;00m\n\u001b[32m     12\u001b[39m                     \u001b[32m0\u001b[39m,\n\u001b[32m     13\u001b[39m                     \u001b[38;5;28;01mNone\u001b[39;00m,\n\u001b[32m     14\u001b[39m                 )\n\u001b[32m     16\u001b[39m     win32file.WriteFile(pipe, json.dumps(msg).encode() + \u001b[33mb\u001b[39m\u001b[33m\"\u001b[39m\u001b[38;5;130;01m\\n\u001b[39;00m\u001b[33m\"\u001b[39m)\n\u001b[32m     17\u001b[39m     win32file.CloseHandle(pipe)\n",
      "\u001b[31merror\u001b[39m: (231, 'CreateNamedPipe', 'All pipe instances are busy.')"
     ]
    }
   ],
   "source": [
    "send({\"msg\":\"test\"})"
   ]
  }
 ],
 "metadata": {
  "kernelspec": {
   "display_name": "training",
   "language": "python",
   "name": "python3"
  },
  "language_info": {
   "codemirror_mode": {
    "name": "ipython",
    "version": 3
   },
   "file_extension": ".py",
   "mimetype": "text/x-python",
   "name": "python",
   "nbconvert_exporter": "python",
   "pygments_lexer": "ipython3",
   "version": "3.12.6"
  }
 },
 "nbformat": 4,
 "nbformat_minor": 4
}
