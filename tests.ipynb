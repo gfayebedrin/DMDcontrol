{
 "cells": [
  {
   "cell_type": "code",
   "execution_count": 1,
   "metadata": {},
   "outputs": [],
   "source": [
    "from src.hardware import DMD, ALP4\n",
    "import numpy as np\n",
    "import ctypes as ct"
   ]
  },
  {
   "cell_type": "code",
   "execution_count": 2,
   "metadata": {},
   "outputs": [
    {
     "name": "stdout",
     "output_type": "stream",
     "text": [
      "Loading library: C:\\Program Files\\ALP-4.3\\ALP-4.3 API/x64/alp4395.dll\n",
      "DMD found, resolution = 1024 x 768.\n"
     ]
    }
   ],
   "source": [
    "dmd=DMD()"
   ]
  },
  {
   "cell_type": "code",
   "execution_count": 3,
   "metadata": {},
   "outputs": [],
   "source": [
    "img = np.zeros((1, *dmd.shape), dtype=np.uint8)"
   ]
  },
  {
   "cell_type": "code",
   "execution_count": 4,
   "metadata": {},
   "outputs": [
    {
     "data": {
      "text/plain": [
       "array([], shape=(0, 0, 0), dtype=bool)"
      ]
     },
     "execution_count": 4,
     "metadata": {},
     "output_type": "execute_result"
    }
   ],
   "source": [
    "dmd.frames"
   ]
  },
  {
   "cell_type": "code",
   "execution_count": 16,
   "metadata": {},
   "outputs": [],
   "source": [
    "dmd._frames = img\n",
    "\n",
    "dmd._alp4.Halt()\n",
    "dmd._alp4.FreeSeq()\n",
    "dmd._alp4.SeqAlloc(nbImg=img.shape[0])\n",
    "dmd._alp4.SeqPut(img)\n",
    "\n",
    "dmd._alp4.SeqControl(ALP4.ALP_FLUT_MODE, ALP4.ALP_FLUT_9BIT)\n",
    "dmd._alp4.SeqControl(ALP4.ALP_FLUT_ENTRIES9, img.shape[0]) # may need to set ALP_FLUT_ENTRIES9 to 2*len(sequence) according to C++ sample, although this would correspond to 18 bits\n",
    "dmd._alp4.SeqControl(ALP4.ALP_BIN_MODE, ALP4.ALP_BIN_UNINTERRUPTED)\n",
    "dmd._alp4.SetTiming()"
   ]
  },
  {
   "cell_type": "code",
   "execution_count": 15,
   "metadata": {},
   "outputs": [
    {
     "data": {
      "text/plain": [
       "0"
      ]
     },
     "execution_count": 15,
     "metadata": {},
     "output_type": "execute_result"
    }
   ],
   "source": [
    "dmd._alp4.SeqInquire(ALP4.ALP_FLUT_OFFSET9)"
   ]
  },
  {
   "cell_type": "code",
   "execution_count": 35,
   "metadata": {},
   "outputs": [
    {
     "ename": "ALPError",
     "evalue": "One of the parameters is invalid.",
     "output_type": "error",
     "traceback": [
      "\u001b[31m---------------------------------------------------------------------------\u001b[39m",
      "\u001b[31mALPError\u001b[39m                                  Traceback (most recent call last)",
      "\u001b[36mCell\u001b[39m\u001b[36m \u001b[39m\u001b[32mIn[35]\u001b[39m\u001b[32m, line 9\u001b[39m\n\u001b[32m      1\u001b[39m frame_index = \u001b[32m0\u001b[39m\n\u001b[32m      3\u001b[39m flut = ALP4.tFlutWrite(\n\u001b[32m      4\u001b[39m     nOffset=ct.c_long(\u001b[32m0\u001b[39m),\n\u001b[32m      5\u001b[39m     nSize=ct.c_long(\u001b[32m1\u001b[39m),\n\u001b[32m      6\u001b[39m     FrameNumbers=(ct.c_ulong * \u001b[32m4096\u001b[39m)(frame_index),\n\u001b[32m      7\u001b[39m )\n\u001b[32m----> \u001b[39m\u001b[32m9\u001b[39m dmd._alp4.ProjControlEx(ALP4.ALP_FLUT_WRITE_9BIT, ct.byref(flut))\n",
      "\u001b[36mFile \u001b[39m\u001b[32mc:\\Users\\LJP\\Documents\\Guillaume\\DMDcontrol\\src\\hardware\\ALP4\\ALP4.py:1080\u001b[39m, in \u001b[36mALP4.ProjControlEx\u001b[39m\u001b[34m(self, controlType, pointerToStruct)\u001b[39m\n\u001b[32m   1058\u001b[39m \u001b[38;5;28;01mdef\u001b[39;00m\u001b[38;5;250m \u001b[39m\u001b[34mProjControlEx\u001b[39m(\u001b[38;5;28mself\u001b[39m, controlType, pointerToStruct):\n\u001b[32m   1059\u001b[39m \u001b[38;5;250m    \u001b[39m\u001b[33;03m\"\"\"\u001b[39;00m\n\u001b[32m   1060\u001b[39m \u001b[33;03m    Data  objects  that  do  not  fit  into  a  simple  32-bit  number  can  be  written  using  this  function.  These\u001b[39;00m\n\u001b[32m   1061\u001b[39m \u001b[33;03m    objects are unique to the ALP device, so they may affect display of all sequences.\u001b[39;00m\n\u001b[32m   (...)\u001b[39m\u001b[32m   1078\u001b[39m \u001b[33;03m    See AlpProjControlEx in the ALP API description for control types.\u001b[39;00m\n\u001b[32m   1079\u001b[39m \u001b[33;03m    \"\"\"\u001b[39;00m\n\u001b[32m-> \u001b[39m\u001b[32m1080\u001b[39m     \u001b[38;5;28mself\u001b[39m._checkError(\n\u001b[32m   1081\u001b[39m         \u001b[38;5;28mself\u001b[39m._ALPLib.AlpProjControl(\u001b[38;5;28mself\u001b[39m.ALP_ID, controlType, pointerToStruct),\n\u001b[32m   1082\u001b[39m         \u001b[33m\"\u001b[39m\u001b[33mError sending request.\u001b[39m\u001b[33m\"\u001b[39m,\n\u001b[32m   1083\u001b[39m     )\n",
      "\u001b[36mFile \u001b[39m\u001b[32mc:\\Users\\LJP\\Documents\\Guillaume\\DMDcontrol\\src\\hardware\\ALP4\\ALP4.py:478\u001b[39m, in \u001b[36mALP4._checkError\u001b[39m\u001b[34m(self, returnValue, errorString, warning)\u001b[39m\n\u001b[32m    476\u001b[39m \u001b[38;5;28;01mif\u001b[39;00m \u001b[38;5;129;01mnot\u001b[39;00m (returnValue == ALP_OK):\n\u001b[32m    477\u001b[39m     \u001b[38;5;28;01mif\u001b[39;00m \u001b[38;5;129;01mnot\u001b[39;00m warning:\n\u001b[32m--> \u001b[39m\u001b[32m478\u001b[39m         \u001b[38;5;28;01mraise\u001b[39;00m ALPError(returnValue)\n\u001b[32m    479\u001b[39m     \u001b[38;5;28;01melse\u001b[39;00m:\n\u001b[32m    480\u001b[39m         \u001b[38;5;28mprint\u001b[39m(errorString + \u001b[33m\"\u001b[39m\u001b[38;5;130;01m\\n\u001b[39;00m\u001b[33m\"\u001b[39m + ALP_ERRORS[returnValue])\n",
      "\u001b[31mALPError\u001b[39m: One of the parameters is invalid."
     ]
    }
   ],
   "source": [
    "frame_index = 0\n",
    "\n",
    "flut = ALP4.tFlutWrite(\n",
    "    nOffset=ct.c_long(0),\n",
    "    nSize=ct.c_long(1),\n",
    "    FrameNumbers=(ct.c_ulong * 4096)(frame_index),\n",
    ")\n",
    "\n",
    "dmd._alp4.ProjControlEx(ALP4.ALP_FLUT_WRITE_9BIT, ct.byref(flut))"
   ]
  },
  {
   "cell_type": "code",
   "execution_count": 38,
   "metadata": {},
   "outputs": [
    {
     "data": {
      "text/plain": [
       "True"
      ]
     },
     "execution_count": 38,
     "metadata": {},
     "output_type": "execute_result"
    }
   ],
   "source": [
    "flut.nSize + flut.nOffset <= dmd._alp4.ProjInquire(ALP4.ALP_FLUT_MAX_ENTRIES9)"
   ]
  },
  {
   "cell_type": "code",
   "execution_count": 39,
   "metadata": {},
   "outputs": [],
   "source": [
    "dmd.free()"
   ]
  }
 ],
 "metadata": {
  "kernelspec": {
   "display_name": "dmd-control",
   "language": "python",
   "name": "python3"
  },
  "language_info": {
   "codemirror_mode": {
    "name": "ipython",
    "version": 3
   },
   "file_extension": ".py",
   "mimetype": "text/x-python",
   "name": "python",
   "nbconvert_exporter": "python",
   "pygments_lexer": "ipython3",
   "version": "3.13.5"
  }
 },
 "nbformat": 4,
 "nbformat_minor": 2
}
