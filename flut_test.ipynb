{
 "cells": [
  {
   "cell_type": "markdown",
   "id": "c4474e4d",
   "metadata": {},
   "source": [
    "# Setup"
   ]
  },
  {
   "cell_type": "code",
   "execution_count": null,
   "id": "c7e9c442",
   "metadata": {},
   "outputs": [],
   "source": [
    "from src.hardware import DMD, ALP4\n",
    "import numpy as np\n",
    "import ctypes as ct"
   ]
  },
  {
   "cell_type": "code",
   "execution_count": null,
   "id": "bba5d1b2",
   "metadata": {},
   "outputs": [],
   "source": [
    "frame_numbers = [0, 2, 1, 2]\n",
    "\n",
    "flut = ALP4.tFlutWrite(\n",
    "            nOffset=ct.c_long(0),\n",
    "            nSize=ct.c_long(len(frame_numbers)),\n",
    "            FrameNumbers=(ct.c_ulong * 4096)(*frame_numbers),\n",
    "        )"
   ]
  },
  {
   "cell_type": "code",
   "execution_count": null,
   "id": "87ab879a",
   "metadata": {},
   "outputs": [],
   "source": [
    "dmd=DMD()\n",
    "alp4 = dmd._alp4"
   ]
  },
  {
   "cell_type": "code",
   "execution_count": null,
   "id": "c2e80ce2",
   "metadata": {},
   "outputs": [],
   "source": [
    "img_sequence = np.zeros((3, *dmd.shape), dtype=np.uint8)\n",
    "\n",
    "img_sequence[0, :, :] = 255\n",
    "img_sequence[2, :, :dmd.shape[1]//2] = 0\n",
    "\n",
    "img_sequence = img_sequence.ravel()"
   ]
  },
  {
   "cell_type": "code",
   "execution_count": null,
   "id": "80818f88",
   "metadata": {},
   "outputs": [],
   "source": [
    "alp4.SeqAlloc(nbImg=img_sequence.shape[0], bitDepth=1)\n",
    "alp4.SeqPut(imgData = img_sequence)\n",
    "alp4.SetTiming(pictureTime = 200_000)"
   ]
  },
  {
   "cell_type": "markdown",
   "id": "9f84621a",
   "metadata": {},
   "source": [
    "# Linear display"
   ]
  },
  {
   "cell_type": "code",
   "execution_count": null,
   "id": "d60e0c6e",
   "metadata": {},
   "outputs": [],
   "source": [
    "alp4.Run()\n",
    "\n",
    "print(\"DMD is running with the sequence. Press Enter to stop...\")\n",
    "input(\"Press Enter to stop...\")\n",
    "\n",
    "alp4.Halt()"
   ]
  },
  {
   "cell_type": "markdown",
   "id": "25ad3fd0",
   "metadata": {},
   "source": [
    "# FLUT display"
   ]
  },
  {
   "cell_type": "code",
   "execution_count": null,
   "id": "a5ab0cba",
   "metadata": {},
   "outputs": [],
   "source": [
    "alp4.SeqControl(ALP4.ALP_FLUT_MODE, ALP4.ALP_FLUT_9BIT)\n",
    "alp4.SeqControl(ALP4.ALP_FLUT_ENTRIES9, len(frame_numbers))\n",
    "alp4.ProjControlEx(ALP4.ALP_FLUT_WRITE_9BIT, ct.byref(flut))"
   ]
  },
  {
   "cell_type": "code",
   "execution_count": null,
   "id": "c205dcd7",
   "metadata": {},
   "outputs": [],
   "source": [
    "alp4.Run()\n",
    "\n",
    "print(\"DMD is running with the sequence. Press Enter to stop...\")\n",
    "input(\"Press Enter to stop...\")\n",
    "\n",
    "alp4.Halt()\n",
    "alp4.FreeSeq()\n",
    "alp4.Free()"
   ]
  }
 ],
 "metadata": {
  "kernelspec": {
   "display_name": "training",
   "language": "python",
   "name": "python3"
  },
  "language_info": {
   "codemirror_mode": {
    "name": "ipython",
    "version": 3
   },
   "file_extension": ".py",
   "mimetype": "text/x-python",
   "name": "python",
   "nbconvert_exporter": "python",
   "pygments_lexer": "ipython3",
   "version": "3.12.6"
  }
 },
 "nbformat": 4,
 "nbformat_minor": 5
}
