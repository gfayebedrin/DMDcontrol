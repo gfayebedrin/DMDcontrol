{
 "cells": [
  {
   "cell_type": "code",
   "execution_count": 17,
   "metadata": {},
   "outputs": [],
   "source": [
    "from src.utils.synchronisation import NamedPipeServer\n",
    "\n",
    "import win32pipe, win32file, pywintypes\n",
    "import json, time"
   ]
  },
  {
   "cell_type": "code",
   "execution_count": 18,
   "metadata": {},
   "outputs": [],
   "source": [
    "def task(message):\n",
    "    print(message)\n",
    "    return {\"status\": \"ok\"}\n",
    "\n",
    "server = NamedPipeServer(\n",
    "    callback=task,\n",
    "    should_reply=True,\n",
    "    )"
   ]
  },
  {
   "cell_type": "code",
   "execution_count": 19,
   "metadata": {},
   "outputs": [],
   "source": [
    "def send(msg, pipe_name: str = r\"\\\\.\\pipe\\MatPy\", timeout_ms: int = 1000):\n",
    "    # Wait until the server side exists\n",
    "    start = time.time()\n",
    "    while True:\n",
    "        try:\n",
    "            pipe = win32file.CreateFile(\n",
    "                pipe_name,\n",
    "                win32file.GENERIC_WRITE | win32file.GENERIC_READ,\n",
    "                0,                    # no sharing\n",
    "                None,\n",
    "                win32file.OPEN_EXISTING,\n",
    "                0,\n",
    "                None,\n",
    "            )\n",
    "            break\n",
    "        except pywintypes.error as e:\n",
    "            if e.winerror != 2 or (time.time() - start)*1000 > timeout_ms:\n",
    "                raise\n",
    "            time.sleep(0.05)          # retry until server is up\n",
    "\n",
    "    try:\n",
    "        win32file.WriteFile(pipe, json.dumps(msg).encode() + b\"\\n\")\n",
    "        hr, raw = win32file.ReadFile(pipe, 64 * 1024)     # optional reply\n",
    "        return json.loads(raw.decode()) if raw else None\n",
    "    finally:\n",
    "        win32file.CloseHandle(pipe)\n"
   ]
  },
  {
   "cell_type": "code",
   "execution_count": 20,
   "metadata": {},
   "outputs": [],
   "source": [
    "server.start()"
   ]
  },
  {
   "cell_type": "code",
   "execution_count": 16,
   "metadata": {},
   "outputs": [],
   "source": [
    "server.stop()"
   ]
  },
  {
   "cell_type": "code",
   "execution_count": 3,
   "metadata": {},
   "outputs": [
    {
     "name": "stderr",
     "output_type": "stream",
     "text": [
      "<>:1: SyntaxWarning: \"is not\" with 'int' literal. Did you mean \"!=\"?\n",
      "<>:1: SyntaxWarning: \"is not\" with 'int' literal. Did you mean \"!=\"?\n",
      "/tmp/ipykernel_257653/867021310.py:1: SyntaxWarning: \"is not\" with 'int' literal. Did you mean \"!=\"?\n",
      "  1 is not 0\n"
     ]
    },
    {
     "data": {
      "text/plain": [
       "True"
      ]
     },
     "execution_count": 3,
     "metadata": {},
     "output_type": "execute_result"
    }
   ],
   "source": [
    "1 is not 0"
   ]
  },
  {
   "cell_type": "code",
   "execution_count": 7,
   "metadata": {},
   "outputs": [
    {
     "data": {
      "text/plain": [
       "'test'"
      ]
     },
     "execution_count": 7,
     "metadata": {},
     "output_type": "execute_result"
    }
   ],
   "source": [
    "\" - 7 test\".lstrip(\" -:0123456789\")"
   ]
  }
 ],
 "metadata": {
  "kernelspec": {
   "display_name": "training",
   "language": "python",
   "name": "python3"
  },
  "language_info": {
   "codemirror_mode": {
    "name": "ipython",
    "version": 3
   },
   "file_extension": ".py",
   "mimetype": "text/x-python",
   "name": "python",
   "nbconvert_exporter": "python",
   "pygments_lexer": "ipython3",
   "version": "3.12.6"
  }
 },
 "nbformat": 4,
 "nbformat_minor": 4
}
